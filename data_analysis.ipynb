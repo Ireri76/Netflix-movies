{
 "cells": [
  {
   "cell_type": "code",
   "execution_count": null,
   "id": "c707ef3f-faab-4177-8c46-650bd6d92662",
   "metadata": {},
   "outputs": [],
   "source": [
    "# 6. data_analysis.py\n",
    "import pandas as pd\n",
    "from scipy.stats import chi2_contingency\n",
    "\n",
    "def chi_square_test(df, column1, column2):\n",
    "    cross_tab = pd.crosstab(df[column1], df[column2])\n",
    "    chi2, p, dof, expected = chi2_contingency(cross_tab)\n",
    "    \n",
    "    print(f\"Chi-Square Test between {column1} and {column2}\")\n",
    "    print(f\"Chi2 Statistic: {chi2}, p-value: {p}\\n\")\n"
   ]
  }
 ],
 "metadata": {
  "kernelspec": {
   "display_name": "Python 3 (ipykernel)",
   "language": "python",
   "name": "python3"
  },
  "language_info": {
   "codemirror_mode": {
    "name": "ipython",
    "version": 3
   },
   "file_extension": ".py",
   "mimetype": "text/x-python",
   "name": "python",
   "nbconvert_exporter": "python",
   "pygments_lexer": "ipython3",
   "version": "3.9.17"
  }
 },
 "nbformat": 4,
 "nbformat_minor": 5
}
