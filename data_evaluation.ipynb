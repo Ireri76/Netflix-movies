{
 "cells": [
  {
   "cell_type": "code",
   "execution_count": null,
   "id": "4be0cebd-d108-4859-b2ed-86131945b9a4",
   "metadata": {},
   "outputs": [],
   "source": [
    "# 3. data_evaluation.py\n",
    "\n",
    "import pandas as pd\n",
    "\n",
    "def evaluate_data(file_path):\n",
    "    # Load the cleaned data from 'netflix_show_movies.csv'\n",
    "    df = pd.read_csv(file_path)\n",
    "\n",
    "    # Select only the relevant columns\n",
    "    selected_columns = ['type', 'release_year', 'rating', 'duration', 'Recoded_duration', 'Recoded_release_year']\n",
    "    \n",
    "    # Filter the DataFrame to include only the selected columns\n",
    "    df_selected = df[selected_columns]\n",
    "\n",
    "    # Display the head of the DataFrame\n",
    "    print(\"Head of the DataFrame:\")\n",
    "    print(df_selected.head())\n",
    "\n",
    "    # Display info of the DataFrame once\n",
    "    print(\"\\nInfo of the DataFrame:\")\n",
    "    df_selected.info()\n",
    "\n",
    "    # Display summary statistics for the selected columns only\n",
    "    print(\"\\nSummary statistics of the selected columns:\")\n",
    "    print(df_selected.describe()) \n",
    "\n",
    "    # Check for missing values\n",
    "    missing_values = df_selected.isnull().sum()\n",
    "    print(\"\\nMissing values in each column:\")\n",
    "    print(missing_values)\n",
    "\n",
    "    # Check if the data is clean (no missing values)\n",
    "    if missing_values.any():\n",
    "        print(\"\\nWarning: Missing values detected in the cleaned data.\")\n",
    "    else:\n",
    "        print(\"\\nData is clean with no missing values.\")\n",
    "\n",
    "    return df_selected\n"
   ]
  }
 ],
 "metadata": {
  "kernelspec": {
   "display_name": "Python 3 (ipykernel)",
   "language": "python",
   "name": "python3"
  },
  "language_info": {
   "codemirror_mode": {
    "name": "ipython",
    "version": 3
   },
   "file_extension": ".py",
   "mimetype": "text/x-python",
   "name": "python",
   "nbconvert_exporter": "python",
   "pygments_lexer": "ipython3",
   "version": "3.9.17"
  }
 },
 "nbformat": 4,
 "nbformat_minor": 5
}
