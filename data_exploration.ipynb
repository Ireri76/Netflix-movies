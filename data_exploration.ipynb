{
 "cells": [
  {
   "cell_type": "code",
   "execution_count": null,
   "id": "e5208a52-eebe-4787-8f2e-ed7286e92dfa",
   "metadata": {},
   "outputs": [],
   "source": [
    "# 4. data_exploration.py\n",
    "def explore_data(df):\n",
    "    print()\n",
    "    print(df.head())\n",
    "    print()\n",
    "    print()\n",
    "    print(df.info())\n",
    "    print()\n",
    "    print()\n",
    "    print(df.describe())\n"
   ]
  }
 ],
 "metadata": {
  "kernelspec": {
   "display_name": "Python 3 (ipykernel)",
   "language": "python",
   "name": "python3"
  },
  "language_info": {
   "codemirror_mode": {
    "name": "ipython",
    "version": 3
   },
   "file_extension": ".py",
   "mimetype": "text/x-python",
   "name": "python",
   "nbconvert_exporter": "python",
   "pygments_lexer": "ipython3",
   "version": "3.9.17"
  }
 },
 "nbformat": 4,
 "nbformat_minor": 5
}
