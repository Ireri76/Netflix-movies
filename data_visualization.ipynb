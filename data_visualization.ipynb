{
 "cells": [
  {
   "cell_type": "code",
   "execution_count": null,
   "id": "fa79d4e2-a538-4d05-b7c3-c22eb659f6d7",
   "metadata": {},
   "outputs": [],
   "source": [
    "# 5. data_visualization.py\n",
    "import matplotlib.pyplot as plt\n",
    "import seaborn as sns\n",
    "\n",
    "def visualize_data(df):\n",
    "    plt.figure(figsize=(12, 6))\n",
    "\n",
    "    # Graph 1: 'Recoded_release_year' and 'type'\n",
    "    plt.subplot(1, 3, 1)\n",
    "    sns.countplot(data=df, x='Recoded_release_year', hue='type')\n",
    "    plt.title('Figure 1: Distribution of Types by Release Year')\n",
    "    plt.xticks(rotation=90)  # Rotate labels\n",
    "\n",
    "    # Graph 2: 'type' and 'rating'\n",
    "    plt.subplot(1, 3, 2)\n",
    "    sns.countplot(data=df, x='type', hue='rating')\n",
    "    plt.title('Figure 2: Distribution of Ratings by Type')\n",
    "    plt.xticks(rotation=90)  # Rotate labels\n",
    "\n",
    "    # Graph 3: 'type' and 'Recoded_duration'\n",
    "    plt.subplot(1, 3, 3)\n",
    "    sns.countplot(data=df, x='type', hue='Recoded_duration')\n",
    "    plt.title('Figure 3: Distribution of Duration by Type')\n",
    "    plt.xticks(rotation=90)  # Rotate labels\n",
    "\n",
    "    plt.tight_layout()\n",
    "    plt.show()\n"
   ]
  }
 ],
 "metadata": {
  "kernelspec": {
   "display_name": "Python 3 (ipykernel)",
   "language": "python",
   "name": "python3"
  },
  "language_info": {
   "codemirror_mode": {
    "name": "ipython",
    "version": 3
   },
   "file_extension": ".py",
   "mimetype": "text/x-python",
   "name": "python",
   "nbconvert_exporter": "python",
   "pygments_lexer": "ipython3",
   "version": "3.9.17"
  }
 },
 "nbformat": 4,
 "nbformat_minor": 5
}
