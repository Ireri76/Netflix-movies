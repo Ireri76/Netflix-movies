{
 "cells": [
  {
   "cell_type": "code",
   "execution_count": null,
   "id": "9d7d866e-50ae-44dd-8265-a6757e436135",
   "metadata": {},
   "outputs": [],
   "source": [
    "# 7.main.py\n",
    "from data_preparation import load_data\n",
    "from data_cleaning import clean_data\n",
    "from data_evaluation import evaluate_data\n",
    "from data_exploration import explore_data\n",
    "from data_visualization import visualize_data\n",
    "from data_analysis import chi_square_test\n",
    "\n",
    "\n",
    "if __name__ == \"__main__\":\n",
    "    # Step 1: Load original Netflix data\n",
    "    df = load_data('netflix_data.csv') \n",
    "    \n",
    "    # Step 2: Clean data and save it as 'netflix_show_movies.csv'\n",
    "    df = clean_data(df)  \n",
    "    \n",
    "    # Step 3: Load the cleaned data for further evaluation\n",
    "    df_cleaned = evaluate_data('netflix_show_movies.csv')\n",
    "    \n",
    "    # Step 4: Explore Data\n",
    "    explore_data(df_cleaned)\n",
    "    \n",
    "    # Step 5: Visualize Data\n",
    "    visualize_data(df_cleaned)\n",
    "    \n",
    "    # Step 6: Run Chi-square tests without additional info display\n",
    "    chi_square_test(df_cleaned, 'type', 'Recoded_release_year')\n",
    "    chi_square_test(df_cleaned, 'type', 'rating')\n",
    "    chi_square_test(df_cleaned, 'type', 'Recoded_duration')"
   ]
  },
  {
   "cell_type": "code",
   "execution_count": null,
   "id": "42f062dc-9695-4bce-a45b-df4fa6fe63de",
   "metadata": {},
   "outputs": [],
   "source": []
  }
 ],
 "metadata": {
  "kernelspec": {
   "display_name": "Python 3 (ipykernel)",
   "language": "python",
   "name": "python3"
  },
  "language_info": {
   "codemirror_mode": {
    "name": "ipython",
    "version": 3
   },
   "file_extension": ".py",
   "mimetype": "text/x-python",
   "name": "python",
   "nbconvert_exporter": "python",
   "pygments_lexer": "ipython3",
   "version": "3.9.17"
  }
 },
 "nbformat": 4,
 "nbformat_minor": 5
}
